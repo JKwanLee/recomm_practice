{
  "nbformat": 4,
  "nbformat_minor": 0,
  "metadata": {
    "colab": {
      "name": "recomm_tutorial.ipynb",
      "provenance": [],
      "collapsed_sections": [],
      "toc_visible": true,
      "authorship_tag": "ABX9TyNMmj88kcAJsiTqAx0oy+y/",
      "include_colab_link": true
    },
    "kernelspec": {
      "name": "python3",
      "display_name": "Python 3"
    },
    "language_info": {
      "name": "python"
    }
  },
  "cells": [
    {
      "cell_type": "markdown",
      "metadata": {
        "id": "view-in-github",
        "colab_type": "text"
      },
      "source": [
        "<a href=\"https://colab.research.google.com/github/JKwanLee/recomm_practice/blob/initial_commit/recomm_tutorial.ipynb\" target=\"_parent\"><img src=\"https://colab.research.google.com/assets/colab-badge.svg\" alt=\"Open In Colab\"/></a>"
      ]
    },
    {
      "cell_type": "markdown",
      "metadata": {
        "id": "PbOiCHDQneOw"
      },
      "source": [
        "#### Copyright 2018 Google LLC."
      ]
    },
    {
      "cell_type": "markdown",
      "metadata": {
        "id": "7FiYOyq9nvyr"
      },
      "source": [
        "# Introduction\n",
        "\n",
        "We will create a movie recommendation system based on the [MovieLens](https://movielens.org/) dataset available [here](http://grouplens.org/datasets/movielens/).  The data consists of movies ratings (on a scale of 1 to 5).\n",
        "\n",
        "## Outline\n",
        "  1. Exploring the MovieLens Data (10 minutes)\n",
        "  1. Preliminaries (25 minutes)\n",
        "  1. Training a matrix factorization model (15 minutes)\n",
        "  1. Inspecting the Embeddings (15 minutes)\n",
        "  1. Regularization in matrix factorization (15 minutes)\n",
        "  1. Softmax model training (30 minutes)\n",
        "\n",
        "## Setup\n",
        "\n",
        "Let's get started by importing the required packages."
      ]
    },
    {
      "cell_type": "code",
      "metadata": {
        "colab": {
          "base_uri": "https://localhost:8080/"
        },
        "id": "k_fN44pKnr7y",
        "outputId": "5df6f7f7-e217-4a88-ea93-55537df85318"
      },
      "source": [
        "# title Imports \n",
        "from __future__ import print_function\n",
        "\n",
        "import numpy as np\n",
        "import pandas as pd\n",
        "import collections\n",
        "from mpl_toolkits.mplot3d import Axes3D\n",
        "from IPython import display\n",
        "from matplotlib import pyplot as plt\n",
        "import sklearn\n",
        "import sklearn.manifold\n",
        "import tensorflow.compat.v1 as tf\n",
        "tf.disable_v2_behavior()\n",
        "tf.logging.set_verbosity(tf.logging.ERROR)"
      ],
      "execution_count": 1,
      "outputs": [
        {
          "output_type": "stream",
          "name": "stdout",
          "text": [
            "WARNING:tensorflow:From /usr/local/lib/python3.7/dist-packages/tensorflow/python/compat/v2_compat.py:101: disable_resource_variables (from tensorflow.python.ops.variable_scope) is deprecated and will be removed in a future version.\n",
            "Instructions for updating:\n",
            "non-resource variables are not supported in the long term\n"
          ]
        }
      ]
    },
    {
      "cell_type": "code",
      "metadata": {
        "id": "BsxlrQTi5Jbr"
      },
      "source": [
        "# Add some convenience functions to Pandas DataFrame.\n",
        "pd.options.display.max_rows = 10\n",
        "pd.options.display.float_format = '{:.3f}'.format\n",
        "\n",
        "def mask(df, key, function):\n",
        "  \"\"\"Returns a filtered dataframe, by applying function to key\"\"\"\n",
        "  return df[function(df[key])]\n",
        "\n",
        "def flatten_cols(df):\n",
        "  df.columns = [' '.join(col).strip() for col in df.columns.values]\n",
        "  return df\n",
        "\n",
        "pd.DataFrame.mask = mask\n",
        "pd.DataFrame.flatten_cols = flatten_cols\n"
      ],
      "execution_count": 2,
      "outputs": []
    },
    {
      "cell_type": "code",
      "metadata": {
        "colab": {
          "base_uri": "https://localhost:8080/"
        },
        "id": "mEZDNcfJ5dfL",
        "outputId": "c361d605-8478-4028-9878-3a4ddad8a7fa"
      },
      "source": [
        "# Install Altair and activate its colab renderer.\n",
        "print(\"Installing Altair...\")\n",
        "!pip install git+git://github.com/altair-viz/altair.git\n",
        "import altair as alt\n",
        "alt.data_transformers.enable('default', max_rows=None)\n",
        "alt.renderers.enable('colab')\n",
        "print(\"Done installing Altair.\")"
      ],
      "execution_count": 3,
      "outputs": [
        {
          "output_type": "stream",
          "name": "stdout",
          "text": [
            "Installing Altair...\n",
            "Collecting git+git://github.com/altair-viz/altair.git\n",
            "  Cloning git://github.com/altair-viz/altair.git to /tmp/pip-req-build-nfqjujki\n",
            "  Running command git clone -q git://github.com/altair-viz/altair.git /tmp/pip-req-build-nfqjujki\n",
            "  Installing build dependencies ... \u001b[?25l\u001b[?25hdone\n",
            "  Getting requirements to build wheel ... \u001b[?25l\u001b[?25hdone\n",
            "    Preparing wheel metadata ... \u001b[?25l\u001b[?25hdone\n",
            "Requirement already satisfied: numpy in /usr/local/lib/python3.7/dist-packages (from altair==4.2.0.dev0) (1.19.5)\n",
            "Requirement already satisfied: jinja2 in /usr/local/lib/python3.7/dist-packages (from altair==4.2.0.dev0) (2.11.3)\n",
            "Requirement already satisfied: entrypoints in /usr/local/lib/python3.7/dist-packages (from altair==4.2.0.dev0) (0.3)\n",
            "Requirement already satisfied: pandas>=0.18 in /usr/local/lib/python3.7/dist-packages (from altair==4.2.0.dev0) (1.1.5)\n",
            "Requirement already satisfied: jsonschema in /usr/local/lib/python3.7/dist-packages (from altair==4.2.0.dev0) (2.6.0)\n",
            "Requirement already satisfied: toolz in /usr/local/lib/python3.7/dist-packages (from altair==4.2.0.dev0) (0.11.1)\n",
            "Requirement already satisfied: python-dateutil>=2.7.3 in /usr/local/lib/python3.7/dist-packages (from pandas>=0.18->altair==4.2.0.dev0) (2.8.2)\n",
            "Requirement already satisfied: pytz>=2017.2 in /usr/local/lib/python3.7/dist-packages (from pandas>=0.18->altair==4.2.0.dev0) (2018.9)\n",
            "Requirement already satisfied: six>=1.5 in /usr/local/lib/python3.7/dist-packages (from python-dateutil>=2.7.3->pandas>=0.18->altair==4.2.0.dev0) (1.15.0)\n",
            "Requirement already satisfied: MarkupSafe>=0.23 in /usr/local/lib/python3.7/dist-packages (from jinja2->altair==4.2.0.dev0) (2.0.1)\n",
            "Building wheels for collected packages: altair\n",
            "  Building wheel for altair (PEP 517) ... \u001b[?25l\u001b[?25hdone\n",
            "  Created wheel for altair: filename=altair-4.2.0.dev0-py3-none-any.whl size=732855 sha256=6e8934443926ba0d8f3e226fa6d9fbaf1591f77cc84918e910e72ed99fd95393\n",
            "  Stored in directory: /tmp/pip-ephem-wheel-cache-tliu_5s9/wheels/06/13/e0/5bd72c969fe3954ee1561739e5c58e2ddfe5c10fcdffb12faa\n",
            "Successfully built altair\n",
            "Installing collected packages: altair\n",
            "  Attempting uninstall: altair\n",
            "    Found existing installation: altair 4.1.0\n",
            "    Uninstalling altair-4.1.0:\n",
            "      Successfully uninstalled altair-4.1.0\n",
            "Successfully installed altair-4.2.0.dev0\n",
            "Done installing Altair.\n"
          ]
        }
      ]
    },
    {
      "cell_type": "code",
      "metadata": {
        "colab": {
          "base_uri": "https://localhost:8080/"
        },
        "id": "Mw95vG8Y5eJV",
        "outputId": "aa67baae-9b83-4c20-901a-0525faf44c83"
      },
      "source": [
        "# Download MovieLens data.\n",
        "print(\"Downloading movielens data...\")\n",
        "from urllib.request import urlretrieve\n",
        "import zipfile\n",
        "\n",
        "urlretrieve(\"http://files.grouplens.org/datasets/movielens/ml-100k.zip\", \"movielens.zip\")\n",
        "zip_ref = zipfile.ZipFile('movielens.zip', \"r\")\n",
        "zip_ref.extractall()\n",
        "print(\"Done. Dataset contains:\")\n",
        "print(zip_ref.read('ml-100k/u.info'))\n"
      ],
      "execution_count": 4,
      "outputs": [
        {
          "output_type": "stream",
          "name": "stdout",
          "text": [
            "Downloading movielens data...\n",
            "Done. Dataset contains:\n",
            "b'943 users\\n1682 items\\n100000 ratings\\n'\n"
          ]
        }
      ]
    },
    {
      "cell_type": "code",
      "metadata": {
        "colab": {
          "base_uri": "https://localhost:8080/",
          "height": 35
        },
        "id": "J_k9qk5b5pJl",
        "outputId": "73a355af-e8ca-4a87-a5e7-0fab65124c32"
      },
      "source": [
        "pwd"
      ],
      "execution_count": 5,
      "outputs": [
        {
          "output_type": "execute_result",
          "data": {
            "application/vnd.google.colaboratory.intrinsic+json": {
              "type": "string"
            },
            "text/plain": [
              "'/content'"
            ]
          },
          "metadata": {},
          "execution_count": 5
        }
      ]
    },
    {
      "cell_type": "code",
      "metadata": {
        "colab": {
          "base_uri": "https://localhost:8080/"
        },
        "id": "w7MLqm_E5xcr",
        "outputId": "623796a1-1c00-4e3b-bcfb-990d67e85edb"
      },
      "source": [
        "!ls -l"
      ],
      "execution_count": 8,
      "outputs": [
        {
          "output_type": "stream",
          "name": "stdout",
          "text": [
            "total 4820\n",
            "drwxr-xr-x 2 root root    4096 Sep  6 11:38 ml-100k\n",
            "-rw-r--r-- 1 root root 4924029 Sep  6 11:38 movielens.zip\n",
            "drwxr-xr-x 1 root root    4096 Sep  1 19:26 sample_data\n"
          ]
        }
      ]
    },
    {
      "cell_type": "code",
      "metadata": {
        "colab": {
          "base_uri": "https://localhost:8080/"
        },
        "id": "CUdh1mVe5zIn",
        "outputId": "90234e33-bada-415b-d87a-f6fd85ced364"
      },
      "source": [
        "!ls -l ml-100k"
      ],
      "execution_count": 9,
      "outputs": [
        {
          "output_type": "stream",
          "name": "stdout",
          "text": [
            "total 15776\n",
            "-rw-r--r-- 1 root root     716 Sep  6 11:38 allbut.pl\n",
            "-rw-r--r-- 1 root root     643 Sep  6 11:38 mku.sh\n",
            "-rw-r--r-- 1 root root    6750 Sep  6 11:38 README\n",
            "-rw-r--r-- 1 root root 1586544 Sep  6 11:38 u1.base\n",
            "-rw-r--r-- 1 root root  392629 Sep  6 11:38 u1.test\n",
            "-rw-r--r-- 1 root root 1583948 Sep  6 11:38 u2.base\n",
            "-rw-r--r-- 1 root root  395225 Sep  6 11:38 u2.test\n",
            "-rw-r--r-- 1 root root 1582546 Sep  6 11:38 u3.base\n",
            "-rw-r--r-- 1 root root  396627 Sep  6 11:38 u3.test\n",
            "-rw-r--r-- 1 root root 1581878 Sep  6 11:38 u4.base\n",
            "-rw-r--r-- 1 root root  397295 Sep  6 11:38 u4.test\n",
            "-rw-r--r-- 1 root root 1581776 Sep  6 11:38 u5.base\n",
            "-rw-r--r-- 1 root root  397397 Sep  6 11:38 u5.test\n",
            "-rw-r--r-- 1 root root 1792501 Sep  6 11:38 ua.base\n",
            "-rw-r--r-- 1 root root  186672 Sep  6 11:38 ua.test\n",
            "-rw-r--r-- 1 root root 1792476 Sep  6 11:38 ub.base\n",
            "-rw-r--r-- 1 root root  186697 Sep  6 11:38 ub.test\n",
            "-rw-r--r-- 1 root root 1979173 Sep  6 11:38 u.data\n",
            "-rw-r--r-- 1 root root     202 Sep  6 11:38 u.genre\n",
            "-rw-r--r-- 1 root root      36 Sep  6 11:38 u.info\n",
            "-rw-r--r-- 1 root root  236344 Sep  6 11:38 u.item\n",
            "-rw-r--r-- 1 root root     193 Sep  6 11:38 u.occupation\n",
            "-rw-r--r-- 1 root root   22628 Sep  6 11:38 u.user\n"
          ]
        }
      ]
    },
    {
      "cell_type": "code",
      "metadata": {
        "colab": {
          "base_uri": "https://localhost:8080/"
        },
        "id": "VzH4L7nZ6n5e",
        "outputId": "2a14f6ea-c16a-427e-d383-580e8bac735b"
      },
      "source": [
        "!head -10 ml-100k/u.user"
      ],
      "execution_count": 11,
      "outputs": [
        {
          "output_type": "stream",
          "name": "stdout",
          "text": [
            "1|24|M|technician|85711\n",
            "2|53|F|other|94043\n",
            "3|23|M|writer|32067\n",
            "4|24|M|technician|43537\n",
            "5|33|F|other|15213\n",
            "6|42|M|executive|98101\n",
            "7|57|M|administrator|91344\n",
            "8|36|M|administrator|05201\n",
            "9|29|M|student|01002\n",
            "10|53|M|lawyer|90703\n"
          ]
        }
      ]
    },
    {
      "cell_type": "code",
      "metadata": {
        "colab": {
          "base_uri": "https://localhost:8080/"
        },
        "id": "E1Zs87pe6NIR",
        "outputId": "1d851237-0bd6-49af-9ffb-938f3010b414"
      },
      "source": [
        "!head -10 ml-100k/u.data"
      ],
      "execution_count": 12,
      "outputs": [
        {
          "output_type": "stream",
          "name": "stdout",
          "text": [
            "196\t242\t3\t881250949\n",
            "186\t302\t3\t891717742\n",
            "22\t377\t1\t878887116\n",
            "244\t51\t2\t880606923\n",
            "166\t346\t1\t886397596\n",
            "298\t474\t4\t884182806\n",
            "115\t265\t2\t881171488\n",
            "253\t465\t5\t891628467\n",
            "305\t451\t3\t886324817\n",
            "6\t86\t3\t883603013\n"
          ]
        }
      ]
    },
    {
      "cell_type": "code",
      "metadata": {
        "colab": {
          "base_uri": "https://localhost:8080/"
        },
        "id": "yqH41LED65ib",
        "outputId": "1521b8d4-c9e6-48ce-adaf-c874735d9155"
      },
      "source": [
        "!head -10 ml-100k/u.item"
      ],
      "execution_count": 13,
      "outputs": [
        {
          "output_type": "stream",
          "name": "stdout",
          "text": [
            "1|Toy Story (1995)|01-Jan-1995||http://us.imdb.com/M/title-exact?Toy%20Story%20(1995)|0|0|0|1|1|1|0|0|0|0|0|0|0|0|0|0|0|0|0\n",
            "2|GoldenEye (1995)|01-Jan-1995||http://us.imdb.com/M/title-exact?GoldenEye%20(1995)|0|1|1|0|0|0|0|0|0|0|0|0|0|0|0|0|1|0|0\n",
            "3|Four Rooms (1995)|01-Jan-1995||http://us.imdb.com/M/title-exact?Four%20Rooms%20(1995)|0|0|0|0|0|0|0|0|0|0|0|0|0|0|0|0|1|0|0\n",
            "4|Get Shorty (1995)|01-Jan-1995||http://us.imdb.com/M/title-exact?Get%20Shorty%20(1995)|0|1|0|0|0|1|0|0|1|0|0|0|0|0|0|0|0|0|0\n",
            "5|Copycat (1995)|01-Jan-1995||http://us.imdb.com/M/title-exact?Copycat%20(1995)|0|0|0|0|0|0|1|0|1|0|0|0|0|0|0|0|1|0|0\n",
            "6|Shanghai Triad (Yao a yao yao dao waipo qiao) (1995)|01-Jan-1995||http://us.imdb.com/Title?Yao+a+yao+yao+dao+waipo+qiao+(1995)|0|0|0|0|0|0|0|0|1|0|0|0|0|0|0|0|0|0|0\n",
            "7|Twelve Monkeys (1995)|01-Jan-1995||http://us.imdb.com/M/title-exact?Twelve%20Monkeys%20(1995)|0|0|0|0|0|0|0|0|1|0|0|0|0|0|0|1|0|0|0\n",
            "8|Babe (1995)|01-Jan-1995||http://us.imdb.com/M/title-exact?Babe%20(1995)|0|0|0|0|1|1|0|0|1|0|0|0|0|0|0|0|0|0|0\n",
            "9|Dead Man Walking (1995)|01-Jan-1995||http://us.imdb.com/M/title-exact?Dead%20Man%20Walking%20(1995)|0|0|0|0|0|0|0|0|1|0|0|0|0|0|0|0|0|0|0\n",
            "10|Richard III (1995)|22-Jan-1996||http://us.imdb.com/M/title-exact?Richard%20III%20(1995)|0|0|0|0|0|0|0|0|1|0|0|0|0|0|0|0|0|1|0\n"
          ]
        }
      ]
    },
    {
      "cell_type": "code",
      "metadata": {
        "id": "VT2X2tt968qA"
      },
      "source": [
        ""
      ],
      "execution_count": null,
      "outputs": []
    },
    {
      "cell_type": "code",
      "metadata": {
        "id": "woMOF4D-6Dt9"
      },
      "source": [
        "# Load each data set (users, movies, and ratings).\n",
        "users_cols = ['user_id', 'age', 'sex', 'occupation', 'zip_code']\n",
        "users = pd.read_csv(\n",
        "    'ml-100k/u.user', sep='|', names=users_cols, encoding='latin-1')\n",
        "\n",
        "ratings_cols = ['user_id', 'movie_id', 'rating', 'unix_timestamp']\n",
        "ratings = pd.read_csv(\n",
        "    'ml-100k/u.data', sep='\\t', names=ratings_cols, encoding='latin-1')\n"
      ],
      "execution_count": 14,
      "outputs": []
    },
    {
      "cell_type": "code",
      "metadata": {
        "id": "Fm0CVSQK7FVn"
      },
      "source": [
        ""
      ],
      "execution_count": null,
      "outputs": []
    }
  ]
}