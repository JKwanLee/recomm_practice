{
  "nbformat": 4,
  "nbformat_minor": 0,
  "metadata": {
    "colab": {
      "name": "recomm_tutorial.ipynb",
      "provenance": [],
      "collapsed_sections": [],
      "authorship_tag": "ABX9TyOtQG0bvjsC3/mcW8G0p42k",
      "include_colab_link": true
    },
    "kernelspec": {
      "name": "python3",
      "display_name": "Python 3"
    },
    "language_info": {
      "name": "python"
    }
  },
  "cells": [
    {
      "cell_type": "markdown",
      "metadata": {
        "id": "view-in-github",
        "colab_type": "text"
      },
      "source": [
        "<a href=\"https://colab.research.google.com/github/JKwanLee/recomm_practice/blob/initial_commit/recomm_tutorial.ipynb\" target=\"_parent\"><img src=\"https://colab.research.google.com/assets/colab-badge.svg\" alt=\"Open In Colab\"/></a>"
      ]
    },
    {
      "cell_type": "markdown",
      "metadata": {
        "id": "PbOiCHDQneOw"
      },
      "source": [
        "#### Copyright 2018 Google LLC."
      ]
    },
    {
      "cell_type": "markdown",
      "metadata": {
        "id": "7FiYOyq9nvyr"
      },
      "source": [
        "# Introduction\n",
        "\n",
        "We will create a movie recommendation system based on the [MovieLens](https://movielens.org/) dataset available [here](http://grouplens.org/datasets/movielens/).  The data consists of movies ratings (on a scale of 1 to 5).\n",
        "\n",
        "## Outline\n",
        "  1. Exploring the MovieLens Data (10 minutes)\n",
        "  1. Preliminaries (25 minutes)\n",
        "  1. Training a matrix factorization model (15 minutes)\n",
        "  1. Inspecting the Embeddings (15 minutes)\n",
        "  1. Regularization in matrix factorization (15 minutes)\n",
        "  1. Softmax model training (30 minutes)\n",
        "\n",
        "## Setup\n",
        "\n",
        "Let's get started by importing the required packages."
      ]
    },
    {
      "cell_type": "code",
      "metadata": {
        "id": "k_fN44pKnr7y"
      },
      "source": [
        ""
      ],
      "execution_count": null,
      "outputs": []
    }
  ]
}